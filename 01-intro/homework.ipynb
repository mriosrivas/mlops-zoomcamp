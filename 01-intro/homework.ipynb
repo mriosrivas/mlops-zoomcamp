{
 "cells": [
  {
   "cell_type": "code",
   "execution_count": 1,
   "id": "b2bd82d7",
   "metadata": {},
   "outputs": [
    {
     "name": "stdout",
     "output_type": "stream",
     "text": [
      "Python 3.8.15\n"
     ]
    }
   ],
   "source": [
    "!python -V"
   ]
  },
  {
   "cell_type": "code",
   "execution_count": 2,
   "id": "41062d8a",
   "metadata": {},
   "outputs": [],
   "source": [
    "import pandas as pd"
   ]
  },
  {
   "cell_type": "code",
   "execution_count": 3,
   "id": "c984c564",
   "metadata": {},
   "outputs": [],
   "source": [
    "import pickle"
   ]
  },
  {
   "cell_type": "code",
   "execution_count": 4,
   "id": "4add538c",
   "metadata": {},
   "outputs": [],
   "source": [
    "import seaborn as sns\n",
    "import matplotlib.pyplot as plt"
   ]
  },
  {
   "cell_type": "code",
   "execution_count": 5,
   "id": "8b135c2b",
   "metadata": {},
   "outputs": [],
   "source": [
    "from sklearn.feature_extraction import DictVectorizer\n",
    "from sklearn.linear_model import LinearRegression\n",
    "from sklearn.linear_model import Lasso\n",
    "from sklearn.linear_model import Ridge\n",
    "\n",
    "from sklearn.metrics import mean_squared_error"
   ]
  },
  {
   "cell_type": "code",
   "execution_count": 6,
   "id": "8e013caf",
   "metadata": {},
   "outputs": [],
   "source": [
    "df = pd.read_parquet('./data/yellow_tripdata_2023-01.parquet')"
   ]
  },
  {
   "cell_type": "markdown",
   "id": "6234e44a",
   "metadata": {},
   "source": [
    "## Q1. Downloading the data\n",
    "Read the data for January. How many columns are there?"
   ]
  },
  {
   "cell_type": "code",
   "execution_count": 7,
   "id": "ebbbb2bc",
   "metadata": {},
   "outputs": [
    {
     "name": "stdout",
     "output_type": "stream",
     "text": [
      "Number of colums: 19\n"
     ]
    },
    {
     "data": {
      "text/html": [
       "<div>\n",
       "<style scoped>\n",
       "    .dataframe tbody tr th:only-of-type {\n",
       "        vertical-align: middle;\n",
       "    }\n",
       "\n",
       "    .dataframe tbody tr th {\n",
       "        vertical-align: top;\n",
       "    }\n",
       "\n",
       "    .dataframe thead th {\n",
       "        text-align: right;\n",
       "    }\n",
       "</style>\n",
       "<table border=\"1\" class=\"dataframe\">\n",
       "  <thead>\n",
       "    <tr style=\"text-align: right;\">\n",
       "      <th></th>\n",
       "      <th>names</th>\n",
       "    </tr>\n",
       "  </thead>\n",
       "  <tbody>\n",
       "    <tr>\n",
       "      <th>0</th>\n",
       "      <td>VendorID</td>\n",
       "    </tr>\n",
       "    <tr>\n",
       "      <th>1</th>\n",
       "      <td>tpep_pickup_datetime</td>\n",
       "    </tr>\n",
       "    <tr>\n",
       "      <th>2</th>\n",
       "      <td>tpep_dropoff_datetime</td>\n",
       "    </tr>\n",
       "    <tr>\n",
       "      <th>3</th>\n",
       "      <td>passenger_count</td>\n",
       "    </tr>\n",
       "    <tr>\n",
       "      <th>4</th>\n",
       "      <td>trip_distance</td>\n",
       "    </tr>\n",
       "    <tr>\n",
       "      <th>5</th>\n",
       "      <td>RatecodeID</td>\n",
       "    </tr>\n",
       "    <tr>\n",
       "      <th>6</th>\n",
       "      <td>store_and_fwd_flag</td>\n",
       "    </tr>\n",
       "    <tr>\n",
       "      <th>7</th>\n",
       "      <td>PULocationID</td>\n",
       "    </tr>\n",
       "    <tr>\n",
       "      <th>8</th>\n",
       "      <td>DOLocationID</td>\n",
       "    </tr>\n",
       "    <tr>\n",
       "      <th>9</th>\n",
       "      <td>payment_type</td>\n",
       "    </tr>\n",
       "    <tr>\n",
       "      <th>10</th>\n",
       "      <td>fare_amount</td>\n",
       "    </tr>\n",
       "    <tr>\n",
       "      <th>11</th>\n",
       "      <td>extra</td>\n",
       "    </tr>\n",
       "    <tr>\n",
       "      <th>12</th>\n",
       "      <td>mta_tax</td>\n",
       "    </tr>\n",
       "    <tr>\n",
       "      <th>13</th>\n",
       "      <td>tip_amount</td>\n",
       "    </tr>\n",
       "    <tr>\n",
       "      <th>14</th>\n",
       "      <td>tolls_amount</td>\n",
       "    </tr>\n",
       "    <tr>\n",
       "      <th>15</th>\n",
       "      <td>improvement_surcharge</td>\n",
       "    </tr>\n",
       "    <tr>\n",
       "      <th>16</th>\n",
       "      <td>total_amount</td>\n",
       "    </tr>\n",
       "    <tr>\n",
       "      <th>17</th>\n",
       "      <td>congestion_surcharge</td>\n",
       "    </tr>\n",
       "    <tr>\n",
       "      <th>18</th>\n",
       "      <td>airport_fee</td>\n",
       "    </tr>\n",
       "  </tbody>\n",
       "</table>\n",
       "</div>"
      ],
      "text/plain": [
       "                    names\n",
       "0                VendorID\n",
       "1    tpep_pickup_datetime\n",
       "2   tpep_dropoff_datetime\n",
       "3         passenger_count\n",
       "4           trip_distance\n",
       "5              RatecodeID\n",
       "6      store_and_fwd_flag\n",
       "7            PULocationID\n",
       "8            DOLocationID\n",
       "9            payment_type\n",
       "10            fare_amount\n",
       "11                  extra\n",
       "12                mta_tax\n",
       "13             tip_amount\n",
       "14           tolls_amount\n",
       "15  improvement_surcharge\n",
       "16           total_amount\n",
       "17   congestion_surcharge\n",
       "18            airport_fee"
      ]
     },
     "metadata": {},
     "output_type": "display_data"
    }
   ],
   "source": [
    "number_columns = df.shape[1]\n",
    "column_names = pd.DataFrame(df.columns.values, columns=[\"names\"])\n",
    "print(f\"Number of colums: {number_columns}\")\n",
    "display(column_names)"
   ]
  },
  {
   "cell_type": "markdown",
   "id": "1193e2cc",
   "metadata": {},
   "source": [
    "## Q2. Computing duration\n",
    "\n",
    "Now let's compute the `duration` variable. It should contain the duration of a ride in minutes. \n",
    "\n",
    "What's the standard deviation of the trips duration in January?"
   ]
  },
  {
   "cell_type": "code",
   "execution_count": 8,
   "id": "fd9b5e4d",
   "metadata": {},
   "outputs": [
    {
     "name": "stdout",
     "output_type": "stream",
     "text": [
      "The std duration of trips in January is 41.63\n"
     ]
    }
   ],
   "source": [
    "df['duration'] = (df[\"tpep_dropoff_datetime\"] - df[\"tpep_pickup_datetime\"]).dt.seconds/60\n",
    "std_duration = df[\"duration\"].std()\n",
    "print(f\"The std duration of trips in January is {round(std_duration,2)}\")"
   ]
  },
  {
   "cell_type": "markdown",
   "id": "e6cba80d",
   "metadata": {},
   "source": [
    "## Q3. Dropping outliers\n",
    "\n",
    "Next, we need to check the distribution of the `duration` variable. There are some outliers. Let's remove them and keep only the records where the duration was between 1 and 60 minutes (inclusive).\n",
    "\n",
    "What fraction of the records left after you dropped the outliers?"
   ]
  },
  {
   "cell_type": "code",
   "execution_count": 9,
   "id": "a0551a94",
   "metadata": {},
   "outputs": [
    {
     "name": "stdout",
     "output_type": "stream",
     "text": [
      "Fraction of records without outliers: 0.98\n"
     ]
    }
   ],
   "source": [
    "condition =  (df['duration']>=1) & (df['duration']<=60)\n",
    "prop = round(condition.mean(),2)\n",
    "print(f\"Fraction of records without outliers: {prop}\")\n",
    "\n",
    "df = df[condition].reset_index()"
   ]
  },
  {
   "cell_type": "markdown",
   "id": "45ee64df",
   "metadata": {},
   "source": [
    "## Q4. One-hot encoding\n",
    "\n",
    "Let's apply one-hot encoding to the pickup and dropoff location IDs. We'll use only these two features for our model. \n",
    "\n",
    "* Turn the dataframe into a list of dictionaries (remember to re-cast the ids to strings - otherwise it will \n",
    "  label encode them)\n",
    "* Fit a dictionary vectorizer \n",
    "* Get a feature matrix from it\n",
    "\n",
    "What's the dimensionality of this matrix (number of columns)?"
   ]
  },
  {
   "cell_type": "code",
   "execution_count": 10,
   "id": "4c0a299d",
   "metadata": {},
   "outputs": [],
   "source": [
    "categorical = ['PULocationID', 'DOLocationID']\n",
    "#numerical = ['trip_distance']\n",
    "df[categorical] = df[categorical].astype(str)"
   ]
  },
  {
   "cell_type": "code",
   "execution_count": 11,
   "id": "737ce82c",
   "metadata": {},
   "outputs": [],
   "source": [
    "train_dicts = df[categorical].to_dict(orient='records')"
   ]
  },
  {
   "cell_type": "code",
   "execution_count": 12,
   "id": "939ec92c",
   "metadata": {},
   "outputs": [
    {
     "name": "stdout",
     "output_type": "stream",
     "text": [
      "The expected size is 515\n"
     ]
    }
   ],
   "source": [
    "uniquePULocationID = df[\"PULocationID\"].unique().tolist()\n",
    "uniqueDOLocationID = df[\"DOLocationID\"].unique().tolist()\n",
    "expected_size = len(uniquePULocationID) + len(uniqueDOLocationID)\n",
    "print(f\"The expected size is {expected_size}\")"
   ]
  },
  {
   "cell_type": "code",
   "execution_count": 13,
   "id": "116ff0cc",
   "metadata": {},
   "outputs": [],
   "source": [
    "dv = DictVectorizer()\n",
    "X_train = dv.fit_transform(train_dicts)"
   ]
  },
  {
   "cell_type": "code",
   "execution_count": 14,
   "id": "7513781a",
   "metadata": {},
   "outputs": [
    {
     "name": "stdout",
     "output_type": "stream",
     "text": [
      "The feature vector size is 515\n"
     ]
    }
   ],
   "source": [
    "size = X_train.shape[1]\n",
    "print(f\"The feature vector size is {size}\")"
   ]
  },
  {
   "cell_type": "markdown",
   "id": "f866e73a",
   "metadata": {},
   "source": [
    "## Q5. Training a model\n",
    "\n",
    "Now let's use the feature matrix from the previous step to train a model. \n",
    "\n",
    "* Train a plain linear regression model with default parameters \n",
    "* Calculate the RMSE of the model on the training data\n",
    "\n",
    "What's the RMSE on train?"
   ]
  },
  {
   "cell_type": "code",
   "execution_count": 15,
   "id": "1228e07b",
   "metadata": {},
   "outputs": [],
   "source": [
    "target = 'duration'\n",
    "y_train = df[target].values\n",
    "\n",
    "lr = LinearRegression()\n",
    "lr.fit(X_train, y_train)\n",
    "\n",
    "y_pred = lr.predict(X_train)"
   ]
  },
  {
   "cell_type": "code",
   "execution_count": 16,
   "id": "432cb24f",
   "metadata": {},
   "outputs": [
    {
     "name": "stdout",
     "output_type": "stream",
     "text": [
      "The MSE: 7.65\n"
     ]
    }
   ],
   "source": [
    "rmse = mean_squared_error(y_train, y_pred, squared=False)\n",
    "print(f\"The MSE: {round(rmse, 2)}\")"
   ]
  },
  {
   "cell_type": "code",
   "execution_count": 21,
   "id": "b134c97b",
   "metadata": {},
   "outputs": [
    {
     "data": {
      "text/plain": [
       "<matplotlib.legend.Legend at 0x7f88d70f35b0>"
      ]
     },
     "execution_count": 21,
     "metadata": {},
     "output_type": "execute_result"
    },
    {
     "data": {
      "image/png": "[encoded data removed]",
      "text/plain": [
       "<Figure size 432x288 with 1 Axes>"
      ]
     },
     "metadata": {
      "needs_background": "light"
     },
     "output_type": "display_data"
    }
   ],
   "source": [
    "sns.histplot(y_pred, label='prediction', color=\"tab:blue\")\n",
    "sns.histplot(y_train, label='actual', color=\"tab:orange\", alpha=0.5)\n",
    "\n",
    "plt.legend()"
   ]
  },
  {
   "cell_type": "markdown",
   "id": "a796165d",
   "metadata": {},
   "source": [
    "## Q6. Evaluating the model\n",
    "\n",
    "Now let's apply this model to the validation dataset (February 2023). \n",
    "\n",
    "What's the RMSE on validation?"
   ]
  },
  {
   "cell_type": "code",
   "execution_count": 28,
   "id": "1e905869",
   "metadata": {},
   "outputs": [],
   "source": [
    "def get_features(file_name, categorical, target, dv=None):\n",
    "    df_raw = pd.read_parquet(file_name)\n",
    "    df_raw['duration'] = (df_raw[\"tpep_dropoff_datetime\"] - df_raw[\"tpep_pickup_datetime\"]).dt.seconds/60\n",
    "\n",
    "    condition =  (df_raw['duration']>=1) & (df_raw['duration']<=60)\n",
    "    df = df_raw[condition].reset_index()\n",
    "    #numerical = ['trip_distance']\n",
    "    df[categorical] = df[categorical].astype(str)\n",
    "\n",
    "    x_dicts = df[categorical].to_dict(orient='records')\n",
    "    if dv==None:\n",
    "        dv = DictVectorizer()\n",
    "        X_matrix = dv.fit_transform(x_dicts)\n",
    "    else:\n",
    "        X_matrix = dv.transform(x_dicts)\n",
    "\n",
    "    y = df[target].values\n",
    "\n",
    "    return X_matrix, y, dv"
   ]
  },
  {
   "cell_type": "code",
   "execution_count": 32,
   "id": "ef6657d6",
   "metadata": {},
   "outputs": [],
   "source": [
    "train_file_name = \"./data/yellow_tripdata_2023-01.parquet\"\n",
    "test_file_name = \"./data/yellow_tripdata_2023-02.parquet\"\n",
    "\n",
    "categorical = ['PULocationID', 'DOLocationID']\n",
    "target = 'duration'\n",
    "\n",
    "\n",
    "X_train, y_train, dv = get_features(train_file_name, categorical, target, dv=None)\n",
    "X_test, y_test, _ = get_features(test_file_name, categorical, target, dv)"
   ]
  },
  {
   "cell_type": "code",
   "execution_count": 33,
   "id": "d085ef11",
   "metadata": {},
   "outputs": [],
   "source": [
    "lr = LinearRegression()\n",
    "lr.fit(X_train, y_train)\n",
    "\n",
    "y_pred_train = lr.predict(X_train)\n",
    "y_pred_test = lr.predict(X_test)"
   ]
  },
  {
   "cell_type": "code",
   "execution_count": 34,
   "id": "cb4811b6",
   "metadata": {},
   "outputs": [
    {
     "name": "stdout",
     "output_type": "stream",
     "text": [
      "Training MSE: 7.65\n",
      "Test MSE: 7.81\n"
     ]
    }
   ],
   "source": [
    "rmse_train = mean_squared_error(y_train, y_pred_train, squared=False)\n",
    "rmse_test = mean_squared_error(y_test, y_pred_test, squared=False)\n",
    "\n",
    "print(f\"Training MSE: {round(rmse_train, 2)}\")\n",
    "print(f\"Test MSE: {round(rmse_test, 2)}\")"
   ]
  }
 ],
 "metadata": {
  "kernelspec": {
   "display_name": "Python 3 (ipykernel)",
   "language": "python",
   "name": "python3"
  },
  "language_info": {
   "codemirror_mode": {
    "name": "ipython",
    "version": 3
   },
   "file_extension": ".py",
   "mimetype": "text/x-python",
   "name": "python",
   "nbconvert_exporter": "python",
   "pygments_lexer": "ipython3",
   "version": "3.8.15"
  }
 },
 "nbformat": 4,
 "nbformat_minor": 5
}
